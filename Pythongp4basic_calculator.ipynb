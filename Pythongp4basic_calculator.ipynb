{
 "cells": [
  {
   "cell_type": "markdown",
   "id": "51e9cbd3-f5c0-46f2-b107-db2828ce402b",
   "metadata": {},
   "source": [
    "## Title - Group4 project of Basic Computerv       \n",
    "#### Members are\n",
    "Rabia Waqas <br>\n",
    "Wail Hammoune <br>\n",
    "Yinuo Yan<br>\n",
    "Nethmi Malsha Niwanthani Ranapanada<br>\n",
    "Nay Lin Aung <br>\n",
    "Zon Phoo<br>\n",
    "Karawgodaga Dinusha Ayesh Jayawardana<br>"
   ]
  },
  {
   "cell_type": "markdown",
   "id": "5f6dbb5e-f98a-4322-955a-4e5d483fe11e",
   "metadata": {},
   "source": [
    "\n",
    "Calculator is the project what we are doing in the following.<br>\n",
    "It can be used as a basic calculator.<br>\n",
    "The program has a menu and you can choose what you want to do by looking up the menu.<br>\n",
    "The basic computer can do the addition, subtraction<br>\n",
    "multiplication, division, second power, square root, exit.<br>\n",
    "If you want to quit the program please type 7 and exit the program.<br>"
   ]
  },
  {
   "cell_type": "markdown",
   "id": "76c1e315-2a76-43bf-9217-5771d0cac196",
   "metadata": {},
   "source": [
    "The following steps are buiding the function of a calculator , when I need to use I will call these funciton."
   ]
  },
  {
   "cell_type": "code",
   "execution_count": 25,
   "id": "08126d73-6414-4abe-828c-f1c9c8eb9485",
   "metadata": {},
   "outputs": [],
   "source": [
    "def add(x, y):\n",
    "    return x + y # it is a function to add num1 and num2\n",
    "def subtract(x, y):\n",
    "    return x - y  # it is a function to subtract num1 from num2\n",
    "def multiply(x, y):\n",
    "    return x * y  # it is a function to multiply num1 and num2\n",
    "def divide(x, y):\n",
    "    if y == 0:\n",
    "        return \"Error! Division by zero.\" # if the divider is O we can't divided by 0\n",
    "    return x / y    # it is a function to add num1 and num2\n",
    "def second_power(x):\n",
    "    return x ** 2 # it is a function of square\n",
    "def square_root(x):\n",
    "    if x < 0:\n",
    "        return \"Error! Square root of a negative number is not defined.\" # we can't find square root of negative number\n",
    "    return x**(1/2) # it is a function of square root."
   ]
  },
  {
   "cell_type": "markdown",
   "id": "c426f5e7-dc9c-4d33-9325-3b183a21383c",
   "metadata": {},
   "source": [
    "This is function to show the user what you want to do with the calculator."
   ]
  },
  {
   "cell_type": "code",
   "execution_count": 27,
   "id": "9bac9b30-5710-4b5e-9948-59b6b74596c2",
   "metadata": {},
   "outputs": [],
   "source": [
    "def printerfunction():\n",
    "    print(\"\\nBasic Calculator Menu:\")\n",
    "    print(\"1. Addition\")\n",
    "    print(\"2. Subtraction\")\n",
    "    print(\"3. Multiplication\")\n",
    "    print(\"4. Division\")\n",
    "    print(\"5. Second Power\")\n",
    "    print(\"6. Square Root\")\n",
    "    print(\"7. Exit\")\n",
    "    return input(\"Enter your choice (1-7): \")  "
   ]
  },
  {
   "cell_type": "markdown",
   "id": "aa859763-f2d1-4b6f-9ca9-d3aef6d190fc",
   "metadata": {},
   "source": [
    "The following is the main part of the program and it called all the function we wrrite."
   ]
  },
  {
   "cell_type": "code",
   "execution_count": 29,
   "id": "0da01403-9dc2-4622-9736-4dd5003843c6",
   "metadata": {},
   "outputs": [
    {
     "name": "stdout",
     "output_type": "stream",
     "text": [
      "\n",
      "Basic Calculator Menu:\n",
      "1. Addition\n",
      "2. Subtraction\n",
      "3. Multiplication\n",
      "4. Division\n",
      "5. Second Power\n",
      "6. Square Root\n",
      "7. Exit\n"
     ]
    },
    {
     "name": "stdin",
     "output_type": "stream",
     "text": [
      "Enter your choice (1-7):  1\n",
      "Enter first number:  5\n",
      "Enter second number:  6\n"
     ]
    },
    {
     "name": "stdout",
     "output_type": "stream",
     "text": [
      "The sum of 5.0 and 6.0 is 11.0\n",
      "\n",
      "Basic Calculator Menu:\n",
      "1. Addition\n",
      "2. Subtraction\n",
      "3. Multiplication\n",
      "4. Division\n",
      "5. Second Power\n",
      "6. Square Root\n",
      "7. Exit\n"
     ]
    },
    {
     "name": "stdin",
     "output_type": "stream",
     "text": [
      "Enter your choice (1-7):  2\n",
      "Enter first number:  8\n",
      "Enter second number:  11\n"
     ]
    },
    {
     "name": "stdout",
     "output_type": "stream",
     "text": [
      "The subtraction from 8.0 to 11.0 is -3.0\n",
      "\n",
      "Basic Calculator Menu:\n",
      "1. Addition\n",
      "2. Subtraction\n",
      "3. Multiplication\n",
      "4. Division\n",
      "5. Second Power\n",
      "6. Square Root\n",
      "7. Exit\n"
     ]
    },
    {
     "name": "stdin",
     "output_type": "stream",
     "text": [
      "Enter your choice (1-7):  3\n",
      "Enter first number:  5\n",
      "Enter second number:  6\n"
     ]
    },
    {
     "name": "stdout",
     "output_type": "stream",
     "text": [
      "The multiplication of 5.0 and 6.0 is 30.0\n",
      "\n",
      "Basic Calculator Menu:\n",
      "1. Addition\n",
      "2. Subtraction\n",
      "3. Multiplication\n",
      "4. Division\n",
      "5. Second Power\n",
      "6. Square Root\n",
      "7. Exit\n"
     ]
    },
    {
     "name": "stdin",
     "output_type": "stream",
     "text": [
      "Enter your choice (1-7):  4\n",
      "Enter first number:  8\n",
      "Enter second number:  9\n"
     ]
    },
    {
     "name": "stdout",
     "output_type": "stream",
     "text": [
      "The division of 8.0 by 9.0 is 0.8888888888888888\n",
      "\n",
      "Basic Calculator Menu:\n",
      "1. Addition\n",
      "2. Subtraction\n",
      "3. Multiplication\n",
      "4. Division\n",
      "5. Second Power\n",
      "6. Square Root\n",
      "7. Exit\n"
     ]
    },
    {
     "name": "stdin",
     "output_type": "stream",
     "text": [
      "Enter your choice (1-7):  5\n",
      "Enter the number:  9\n"
     ]
    },
    {
     "name": "stdout",
     "output_type": "stream",
     "text": [
      "The second power of 9.0 is 81.0\n",
      "\n",
      "Basic Calculator Menu:\n",
      "1. Addition\n",
      "2. Subtraction\n",
      "3. Multiplication\n",
      "4. Division\n",
      "5. Second Power\n",
      "6. Square Root\n",
      "7. Exit\n"
     ]
    },
    {
     "name": "stdin",
     "output_type": "stream",
     "text": [
      "Enter your choice (1-7):  6\n",
      "Enter the number:  81\n"
     ]
    },
    {
     "name": "stdout",
     "output_type": "stream",
     "text": [
      "The square root of 81.0 is 9.0\n",
      "\n",
      "Basic Calculator Menu:\n",
      "1. Addition\n",
      "2. Subtraction\n",
      "3. Multiplication\n",
      "4. Division\n",
      "5. Second Power\n",
      "6. Square Root\n",
      "7. Exit\n"
     ]
    },
    {
     "name": "stdin",
     "output_type": "stream",
     "text": [
      "Enter your choice (1-7):  7\n"
     ]
    },
    {
     "name": "stdout",
     "output_type": "stream",
     "text": [
      "Exiting the calculator. Goodbye!\n"
     ]
    }
   ],
   "source": [
    "# def calculator():\n",
    "    while True:\n",
    "        choice = printerfunction()\n",
    "        if choice == '7':\n",
    "            print(\"Exiting the calculator. Goodbye!\")\n",
    "            break\n",
    "        if choice in ['1', '2', '3', '4']:\n",
    "            num1 = float(input(\"Enter first number: \"))\n",
    "            num2 = float(input(\"Enter second number: \"))\n",
    "            if choice == '1':\n",
    "                print(\"The sum of\",num1,\"and\",num2,\"is\", add(num1, num2))\n",
    "            elif choice == '2':\n",
    "                print(\"The subtraction from\",num1,\"to\",num2,\"is\", subtract(num1, num2))\n",
    "            elif choice == '3':\n",
    "                print(\"The multiplication of\",num1,\"and\",num2,\"is\", multiply(num1, num2))\n",
    "            elif choice == '4':\n",
    "                print(\"The division of\",num1,\"by\",num2,\"is\", divide(num1, num2))\n",
    "        elif choice == '5':\n",
    "            num = float(input(\"Enter the number: \"))\n",
    "            print(\"The second power of\",num,\"is\", second_power(num))\n",
    "        elif choice == '6':\n",
    "            num = float(input(\"Enter the number: \"))\n",
    "            print(\"The square root of\",num,\"is\",square_root(num))\n",
    "    else:\n",
    "        print(\"Invalid choice! Please enter a number between 1 and 7.\")\n",
    "calculator()"
   ]
  }
 ],
 "metadata": {
  "kernelspec": {
   "display_name": "Python [conda env:base] *",
   "language": "python",
   "name": "conda-base-py"
  },
  "language_info": {
   "codemirror_mode": {
    "name": "ipython",
    "version": 3
   },
   "file_extension": ".py",
   "mimetype": "text/x-python",
   "name": "python",
   "nbconvert_exporter": "python",
   "pygments_lexer": "ipython3",
   "version": "3.12.7"
  }
 },
 "nbformat": 4,
 "nbformat_minor": 5
}
